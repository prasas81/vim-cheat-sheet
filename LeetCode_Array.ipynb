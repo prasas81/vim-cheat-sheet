{
  "nbformat": 4,
  "nbformat_minor": 0,
  "metadata": {
    "colab": {
      "provenance": [],
      "authorship_tag": "ABX9TyNp/eoKifP6I0YzegDrbtsf",
      "include_colab_link": true
    },
    "kernelspec": {
      "name": "python3",
      "display_name": "Python 3"
    },
    "language_info": {
      "name": "python"
    }
  },
  "cells": [
    {
      "cell_type": "markdown",
      "metadata": {
        "id": "view-in-github",
        "colab_type": "text"
      },
      "source": [
        "<a href=\"https://colab.research.google.com/github/prasas81/vim-cheat-sheet/blob/main/LeetCode_Array.ipynb\" target=\"_parent\"><img src=\"https://colab.research.google.com/assets/colab-badge.svg\" alt=\"Open In Colab\"/></a>"
      ]
    },
    {
      "cell_type": "markdown",
      "source": [
        "# 1.Problem Statement:\n",
        "Given an array of integers nums and an integer target, return indices of the two numbers such that they add up to target.\n",
        "\n",
        "You may assume that each input would have exactly one solution, and you may not use the same element twice.\n",
        "\n",
        "Input: nums = [2, 7, 11, 15], target = 9\n",
        "Output: [0, 1]\n",
        "Explanation: Because nums[0] + nums[1] == 9, we return [0, 1].\n"
      ],
      "metadata": {
        "id": "29ckbOgvN6fH"
      }
    },
    {
      "cell_type": "code",
      "source": [
        "def two_sum(nums, target):\n",
        "    num_dict = {}\n",
        "    for index, number in enumerate(nums):\n",
        "      complement = target - number\n",
        "      if complement in num_dict:\n",
        "        return [num_dict[complement], index]\n",
        "      num_dict[number] = index\n",
        "\n",
        "print(two_sum([2,7,11,15], 9))"
      ],
      "metadata": {
        "colab": {
          "base_uri": "https://localhost:8080/"
        },
        "id": "hmlGArrpOGZ5",
        "outputId": "117ae5b6-d949-4589-86c7-9abc9c000bc6"
      },
      "execution_count": null,
      "outputs": [
        {
          "output_type": "stream",
          "name": "stdout",
          "text": [
            "[0, 1]\n"
          ]
        }
      ]
    },
    {
      "cell_type": "markdown",
      "source": [
        "# 2. Problem Statement:\n",
        "You are given an array 'prices' where prices[i] is the price of a given stock on the ith day.\n",
        "\n",
        "you want to maximize your profit by choosing a single day to buy one stock and choosing a different day in the future to sell that stock.\n",
        "\n",
        "Return the maximum profit you can acheive from this transaciton. If you cannot achieve any profit , return 0.\n",
        "\n",
        "**Example 1:**\n",
        "\n",
        "Input: prices = [ 7,1,5,3,6,4 ]\n",
        "\n",
        "Output:5\n",
        "\n",
        "Explanation: Buy on day 2 (price = 1) and sell on day 5 (price = 6) , profit = 6-1 = 5\n",
        "\n",
        "note that buying on day 2 and selling on day 1 is not allowed because you must buy before you sell.\n",
        "\n",
        "**Example 2:**\n",
        "\n",
        "Input: prices = [ 7,6,4,3,1 ]\n",
        "Output: 0\n",
        "Explanation: In this case , no transaciton are done and the max profit = 0\n"
      ],
      "metadata": {
        "id": "L2GkNgK4psyc"
      }
    },
    {
      "cell_type": "code",
      "source": [
        "def calculate_Max_Profit(prices):\n",
        "  minimum_price = float('inf')\n",
        "  max_profit = 0\n",
        "  for index, price in enumerate(prices):\n",
        "    if price < minimum_price:\n",
        "      minimum_price = price\n",
        "    profit = price - minimum_price\n",
        "    max_profit = max(max_profit, profit)\n",
        "  return max_profit\n",
        "\n",
        "\n",
        "print(calculate_Max_Profit([7,1,5,3,6,4]))\n",
        "\n"
      ],
      "metadata": {
        "colab": {
          "base_uri": "https://localhost:8080/"
        },
        "id": "HhOEQNftp7oA",
        "outputId": "1d300b9f-9190-48e9-b3f0-9ebe3120851e"
      },
      "execution_count": null,
      "outputs": [
        {
          "output_type": "stream",
          "name": "stdout",
          "text": [
            "5\n"
          ]
        }
      ]
    },
    {
      "cell_type": "markdown",
      "source": [
        "# 3. Problem Statement:\n",
        "Given an integer array nums, return true if any vaue appears at least twice in the array and return false if every element is distinct."
      ],
      "metadata": {
        "id": "NEeRWoz3QoSF"
      }
    },
    {
      "cell_type": "code",
      "source": [
        "def contains_duplicate(numbs:list):\n",
        "  number_dict = {}\n",
        "  for numb in numbs:\n",
        "    if numb in number_dict:\n",
        "      return True\n",
        "    number_dict[numb] = 1\n",
        "  return False\n",
        "\n",
        "print(contains_duplicate([1,2,3,1]))\n",
        "print(contains_duplicate([1,2,3,14]))\n"
      ],
      "metadata": {
        "colab": {
          "base_uri": "https://localhost:8080/"
        },
        "id": "7ljd5J9VQ6TL",
        "outputId": "623640c5-66b9-46f2-b822-23cf514f83a6"
      },
      "execution_count": null,
      "outputs": [
        {
          "output_type": "stream",
          "name": "stdout",
          "text": [
            "True\n",
            "False\n"
          ]
        }
      ]
    },
    {
      "cell_type": "markdown",
      "source": [
        "# 4. Problem Statement:\n",
        "Given an integer array nums,return an array answer such that answer[i] is equal to the product of all the elements of nums except nums[i].\n",
        "\n",
        "The product of any prefix or suffix of nums is guaranteed to fit in a 32bit integer.\n",
        "\n",
        "write an algorithm that rus in O(n) time and without usig the division operation.\n",
        "\n",
        "Example 1:\n",
        "Input: nums = [ 1,2,3,4 ]\n",
        "Output: [ 24,12,8,6 ]\n",
        "\n",
        "Example 2:\n",
        "Input: nums = [ -1,1,0,-3,3 ]\n",
        "Output: [ 0,0,9,0,0 ]\n",
        "\n",
        "**Explanation**\n",
        "**This use concept of Prefix and Suffix Multiplication**\n",
        "Initialization:\n",
        "\n",
        "left_products and right_products are initialized with 1's. This is because the product of elements to the left of the first element and to the right of the last element should be 1.\n",
        "Calculating left_products:\n",
        "\n",
        "Start from the second element and calculate the cumulative product of elements to the left of the current index.\n",
        "For example, for nums = [1, 2, 3, 4], left_products will be [1, 1, 2, 6].\n",
        "Calculating right_products:\n",
        "\n",
        "Start from the second last element and calculate the cumulative product of elements to the right of the current index.\n",
        "For example, for nums = [1, 2, 3, 4], right_products will be [24, 12, 4, 1].\n",
        "Calculating the final answer:\n",
        "\n",
        "Multiply the corresponding elements of left_products and right_products.\n",
        "For example, for nums = [1, 2, 3, 4], answer will be [24, 12, 8, 6].\n",
        "This method ensures that the problem constraints are met, and it runs in\n",
        "𝑂\n",
        "(\n",
        "𝑛\n",
        ")\n",
        "O(n) time without using the division operation.\n"
      ],
      "metadata": {
        "id": "8O9KphE_2psf"
      }
    },
    {
      "cell_type": "code",
      "source": [
        "def product_of_elements(nums):\n",
        "  left_product= [1] * len(nums)\n",
        "  right_product = [1] * len(nums)\n",
        "  total_product_list = [1] * len(nums)\n",
        "\n",
        "  # calculate left product\n",
        "  for i in range(1, len(nums)):\n",
        "    left_product[i] = left_product[i-1] * nums[i-1]\n",
        "\n",
        "  for i in range (len(nums)-2, -1 ,-1):\n",
        "    right_product[i]  = right_product[i+1] * nums[i+1]\n",
        "\n",
        "  for i in range(len(nums)):\n",
        "    total_product_list[i] = left_product[i] * right_product[i]\n",
        "\n",
        "  return total_product_list\n",
        "\n",
        "print(product_of_elements([1,2,3,4]))"
      ],
      "metadata": {
        "colab": {
          "base_uri": "https://localhost:8080/"
        },
        "id": "0yKuhCoO3Cr7",
        "outputId": "cb843a4c-9427-43db-89ed-79469584ef12"
      },
      "execution_count": null,
      "outputs": [
        {
          "output_type": "stream",
          "name": "stdout",
          "text": [
            "[24, 12, 8, 6]\n"
          ]
        }
      ]
    },
    {
      "cell_type": "markdown",
      "source": [
        "# 5. Problem Statement:\n",
        "given array of integers we have to find out the sub array with largest sum the sub array must be contigious\n",
        "\n",
        "example\n",
        "[-2,1,-3,4,-1,2,1,-5,4]\n",
        "\n",
        "max_subarray = 4 +(-1)+2 +1 = 6\n",
        "\n",
        "To find the contiguous subarray with the largest sum, we can use Kadane's Algorithm. Kadane's Algorithm is an efficient way to solve this problem with a time complexity of\n",
        "𝑂\n",
        "(\n",
        "𝑛\n",
        ")\n",
        "O(n).\n",
        "\n",
        "Kadane's Algorithm\n",
        "The algorithm works by iterating through the array while keeping track of the maximum sum of the subarray that ends at the current position. It uses two variables:\n",
        "\n",
        "**current_sum**: This keeps track of the sum of the current subarray.\n",
        "\n",
        "**max_sum**: This keeps track of the maximum sum encountered so far.\n",
        "Steps:\n",
        "Initialize Variables:\n",
        "\n",
        "Set current_sum to the first element of the array.\n",
        "Set max_sum to the first element of the array.\n",
        "Iterate Through the Array:\n",
        "\n",
        "For each element starting from the second element, update current_sum to be the maximum of the current element alone or the current element plus the previous current_sum.\n",
        "Update max_sum to be the maximum of max_sum and current_sum.\n",
        "Return max_sum:\n",
        "\n",
        "After processing all elements, max_sum will contain the largest sum of any contiguous subarray."
      ],
      "metadata": {
        "id": "XF1-rHpCtlzH"
      }
    },
    {
      "cell_type": "code",
      "source": [
        "def max_subarray(nums):\n",
        "  # Handle edge case where the list is empty\n",
        "  if not nums:\n",
        "    return 0\n",
        "\n",
        "  # Initialize current_sum and max_sum with the first element of the array\n",
        "  current_sum = max_sum = nums[0]\n",
        "\n",
        "  # Iterate through the array starting from the second element\n",
        "  for _, nub in enumerate(nums[1:]):\n",
        "    # Update current_sum to be the maximum of the current\n",
        "    # element alone or the current element plus the previous current_sum\n",
        "    current_sum = max(nub, nub+current_sum)\n",
        "    # Update max_sum to be the maximum of max_sum and current_sum\n",
        "    max_sum = max(max_sum, current_sum)\n",
        "  return max_sum\n",
        "\n",
        "print(max_subarray([-2,1,-3,4,-1,2,1,-5,4]))\n"
      ],
      "metadata": {
        "colab": {
          "base_uri": "https://localhost:8080/"
        },
        "id": "qjB9LAoWwSEP",
        "outputId": "9b8e4726-66b6-4d77-d1f0-e4171ced4911"
      },
      "execution_count": null,
      "outputs": [
        {
          "output_type": "stream",
          "name": "stdout",
          "text": [
            "6\n"
          ]
        }
      ]
    },
    {
      "cell_type": "markdown",
      "source": [
        "# 6. Problem Statement:\n",
        "Given an integer array nums, find a\n",
        "subarray\n",
        " that has the largest product, and return the product.\n",
        "\n",
        "The test cases are generated so that the answer will fit in a 32-bit integer.\n",
        "\n",
        "\n",
        "\n",
        "Example 1:\n",
        "\n",
        "Input: nums = [2,3,-2,4]\n",
        "Output: 6\n",
        "Explanation: [2,3] has the largest product 6.\n",
        "\n",
        "Example 2:\n",
        "\n",
        "Input: nums = [-2,0,-1]\n",
        "Output: 0\n",
        "Explanation: The result cannot be 2, because [-2,-1] is not a subarray.\n",
        "\n",
        "\n",
        "Constraints:\n",
        "\n",
        "1 <= nums.length <= 2 * 104\n",
        "\n",
        "-10 <= nums[i] <= 10\n",
        "\n",
        "The product of any prefix or suffix of nums is guaranteed to fit in a 32-bit integer."
      ],
      "metadata": {
        "id": "YwtJx_M6HMPd"
      }
    },
    {
      "cell_type": "code",
      "source": [
        "def max_product(nums):\n",
        "  max_product = current_product  = nums[0]\n",
        "  for num in nums[1:]:\n",
        "    current_product = max(num, current_product * num)\n",
        "    max_product=max(current_product, max_product)\n",
        "\n",
        "  return max_product\n",
        "\n",
        "max_product([2,3,-2,4])\n",
        "max_product([-2,0,-1])"
      ],
      "metadata": {
        "colab": {
          "base_uri": "https://localhost:8080/"
        },
        "id": "Hau_lZOiIdaJ",
        "outputId": "ec4e604a-fafd-4181-d35b-13da0fa4831b"
      },
      "execution_count": null,
      "outputs": [
        {
          "output_type": "execute_result",
          "data": {
            "text/plain": [
              "0"
            ]
          },
          "metadata": {},
          "execution_count": 6
        }
      ]
    },
    {
      "cell_type": "markdown",
      "source": [
        "# 7. Problem Statement:\n",
        "**Find Minimum in Rotated Sorted Array**\n",
        "\n",
        "Suppose an array of length n sorted in ascending order is rotated between 1 and n times.\n",
        "\n",
        "For example, the array nums = [0, 1, 2, 4, 5, 6, 7] might become:\n",
        "\n",
        "[4, 5, 6, 7, 0, 1, 2] if it was rotated 4 times.\n",
        "[0, 1, 2, 4, 5, 6, 7] if it was rotated 7 times.\n",
        "\n",
        "Notice that rotating an array [a[0], a[1], a[2], ..., a[n-1]] 1 time results in the array [a[n-1], a[0], a[1], a[2], ..., a[n-2]].\n",
        "\n",
        "Given the sorted rotated array nums of unique elements, return the minimum element of this array.\n",
        "\n",
        "You must write an algorithm that runs in O(log n) time.\n",
        "\n",
        "\n",
        "\n",
        "Example 1:\n",
        "\n",
        "Input: nums = [3, 4, 5, 1, 2]\n",
        "Output: 1\n",
        "Explanation: The original array was [1, 2, 3, 4, 5] rotated 3 times.\n",
        "\n",
        "Example 2:\n",
        "\n",
        "Input: nums = [4, 5, 6, 7, 0, 1, 2]\n",
        "Output: 0\n",
        "Explanation: The original array was [0, 1, 2, 4, 5, 6, 7] and it was rotated 4 times.\n",
        "\n",
        "Example 3:\n",
        "\n",
        "Input: nums = [11, 13, 15, 17]\n",
        "Output: 11\n",
        "Explanation: The original array was [11, 13, 15, 17] and it was rotated 4 times.\n",
        "\n",
        "\n",
        "Constraints:\n",
        "\n",
        "n == nums.length\n",
        "1 <= n <= 5000\n",
        "-5000 <= nums[i] <= 5000\n",
        "All the integers of nums are unique.\n",
        "nums is sorted and rotated between 1 and n times."
      ],
      "metadata": {
        "id": "NAwjnok8KynL"
      }
    },
    {
      "cell_type": "code",
      "source": [
        "def find_min(nums):\n",
        "    min_value = current_value = nums[0]\n",
        "    if not nums:\n",
        "      return None\n",
        "\n",
        "    for num in nums[1:]:\n",
        "      current_value = min (num,current_value*num)\n",
        "      min_value = min(min_value, current_value)\n",
        "\n",
        "    return min_value\n",
        "\n",
        "print(find_min([3,4,5,1,2]))\n",
        "print(find_min([4,5,6,7,0,1,2]))\n",
        "print(find_min([11,13,15,17]))"
      ],
      "metadata": {
        "colab": {
          "base_uri": "https://localhost:8080/"
        },
        "id": "jzVuNQBfNfKg",
        "outputId": "0977704a-8650-441b-880d-3bd6a0fb374d"
      },
      "execution_count": null,
      "outputs": [
        {
          "output_type": "stream",
          "name": "stdout",
          "text": [
            "1\n",
            "0\n",
            "11\n"
          ]
        }
      ]
    },
    {
      "cell_type": "markdown",
      "source": [
        "# 8. Problem Statement:\n",
        "**Search in Rotated Sorted Array**\n",
        "\n",
        "here is an integer array nums sorted in ascending order (with distinct values).\n",
        "\n",
        "Prior to being passed to your function, nums is possibly rotated at an unknown pivot index k (1 <= k < nums.length) such that the resulting array is [nums[k], nums[k+1], ..., nums[n-1], nums[0], nums[1], ..., nums[k-1]] (0-indexed). For example, [0,1,2,4,5,6,7] might be rotated at pivot index 3 and become [4,5,6,7,0,1,2].\n",
        "\n",
        "Given the array nums after the possible rotation and an integer target, return the index of target if it is in nums, or -1 if it is not in nums.\n",
        "\n",
        "You must write an algorithm with O(log n) runtime complexity.\n",
        "\n",
        "\n",
        "\n",
        "Example 1:\n",
        "\n",
        "Input: nums = [4,5,6,7,0,1,2], target = 0\n",
        "Output: 4\n",
        "\n",
        "Example 2:\n",
        "\n",
        "Input: nums = [4,5,6,7,0,1,2], target = 3\n",
        "Output: -1\n",
        "\n",
        "Example 3:\n",
        "\n",
        "Input: nums = [1], target = 0\n",
        "Output: -1\n",
        "\n",
        "\n",
        "Constraints:\n",
        "\n",
        "1 <= nums.length <= 5000\n",
        "-104 <= nums[i] <= 104\n",
        "All values of nums are unique.\n",
        "nums is an ascending array that is possibly rotated.\n",
        "-104 <= target <= 104\n"
      ],
      "metadata": {
        "id": "zOFwXuiBO_Nj"
      }
    },
    {
      "cell_type": "code",
      "source": [
        "def search(nums, target):\n",
        "   left, right = 0, len(nums)-1\n",
        "\n",
        "   while left <= right:\n",
        "      mid_point  = (left +right)//2\n",
        "\n",
        "      if nums[mid_point] == target:\n",
        "        return mid_point\n",
        "\n",
        "      if nums[left] <= nums[mid_point]:\n",
        "        if nums[left] <= target < nums[mid_point]:\n",
        "          right = mid_point -1\n",
        "        else:\n",
        "          left = mid_point + 1\n",
        "      else:\n",
        "        if nums[left] <=target <= nums[mid_point]:\n",
        "          right = mid_point -1\n",
        "        else:\n",
        "          left = mid_point + 1\n",
        "\n",
        "   return -1\n",
        "\n",
        "print(search([4,5,6,7,0,1,2], 0))\n",
        "print(search([4,5,6,7,0,1,2], 3))\n",
        "print(search([1], 0))\n",
        "\n"
      ],
      "metadata": {
        "colab": {
          "base_uri": "https://localhost:8080/"
        },
        "id": "m7E5X_5GQa7z",
        "outputId": "d73b6ec5-adfd-42e2-bc6d-f8d4a880cc70"
      },
      "execution_count": null,
      "outputs": [
        {
          "output_type": "stream",
          "name": "stdout",
          "text": [
            "4\n",
            "-1\n",
            "-1\n"
          ]
        }
      ]
    },
    {
      "cell_type": "markdown",
      "source": [
        "# 9. Problem Statement:\n",
        "You are given two non-empty linked lists representing two non-negative integers. The digits are stored in reverse order, and each of their nodes contains a single digit. Add the two numbers and return the sum as a linked list.\n",
        "\n",
        "You may assume the two numbers do not contain any leading zero, except the number 0 itself.\n",
        "\n",
        "**Example 1**\n",
        "\n",
        "![image.png](data:image/png;base64,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)\n",
        "\n",
        "Input: l1 = [2,4,3], l2 = [5,6,4]\n",
        "Output: [7,0,8]\n",
        "Explanation: 342 + 465 = 807.\n",
        "\n",
        "**Example 2**\n",
        "Input: l1 = [0], l2 = [0]\n",
        "Output: [0]\n",
        "\n",
        "**Example 3**\n",
        "Input: l1 = [9,9,9,9,9,9,9], l2 = [9,9,9,9]\n",
        "Output: [8,9,9,9,0,0,0,1]\n",
        "\n",
        "**Constraints:**\n",
        "\n",
        "The number of nodes in each linked list is in the range [1, 100].\n",
        "0 <= Node.val <= 9\n",
        "It is guaranteed that the list represents a number that does not have leading zeros."
      ],
      "metadata": {
        "id": "FXR1wlwzeEJi"
      }
    },
    {
      "cell_type": "code",
      "source": [
        "class ListNode:\n",
        "    def __init__(self, val=0, next=None):\n",
        "        self.val = val\n",
        "        self.next = next\n",
        "\n",
        "def addTwoNumbers(l1, l2):\n",
        "    dummy_head = ListNode(0)\n",
        "    current = dummy_head\n",
        "    carry = 0\n",
        "\n",
        "    while l1 or l2 or carry:\n",
        "        val1 = l1.val if l1 else 0\n",
        "        val2 = l2.val if l2 else 0\n",
        "\n",
        "        total = val1 + val2 + carry\n",
        "        carry = total // 10\n",
        "        current.next = ListNode(total % 10)\n",
        "        current = current.next\n",
        "\n",
        "        if l1:\n",
        "            l1 = l1.next\n",
        "        if l2:\n",
        "            l2 = l2.next\n",
        "\n",
        "    return dummy_head.next\n",
        "\n",
        "# Helper function to create a linked list from a list\n",
        "def create_linked_list(lst):\n",
        "    dummy = ListNode()\n",
        "    current = dummy\n",
        "    for number in lst:\n",
        "        current.next = ListNode(number)\n",
        "        current = current.next\n",
        "    return dummy.next\n",
        "\n",
        "# Helper function to print the linked list\n",
        "def print_linked_list(node):\n",
        "    numbers = []\n",
        "    while node:\n",
        "        numbers.append(node.val)\n",
        "        node = node.next\n",
        "    print(numbers)\n",
        "\n",
        "# Test cases\n",
        "l1 = create_linked_list([2, 4, 3])\n",
        "l2 = create_linked_list([5, 6, 4])\n",
        "result = addTwoNumbers(l1, l2)\n",
        "print_linked_list(result)  # Output: [7, 0, 8]\n",
        "\n",
        "l1 = create_linked_list([0])\n",
        "l2 = create_linked_list([0])\n",
        "result = addTwo"
      ],
      "metadata": {
        "id": "rRSfl5gBI6PA"
      },
      "execution_count": null,
      "outputs": []
    },
    {
      "cell_type": "markdown",
      "source": [
        "# 10. Problem Statement:\n",
        "\n",
        "**Longest Substring Without Repeating Characters**\n",
        "\n",
        "Hint\n",
        "Given a string s, find the length of the longest\n",
        "substring\n",
        " without repeating characters.\n",
        "\n",
        "\n",
        "\n",
        "Example 1:\n",
        "\n",
        "Input: s = \"abcabcbb\"\n",
        "Output: 3\n",
        "Explanation: The answer is \"abc\", with the length of 3.\n",
        "Example 2:\n",
        "\n",
        "Input: s = \"bbbbb\"\n",
        "Output: 1\n",
        "Explanation: The answer is \"b\", with the length of 1.\n",
        "Example 3:\n",
        "\n",
        "Input: s = \"pwwkew\"\n",
        "Output: 3\n",
        "Explanation: The answer is \"wke\", with the length of 3.\n",
        "Notice that the answer must be a substring, \"pwke\" is a subsequence and not a substring.\n",
        "\n",
        "Constraints:\n",
        "\n",
        "0 <= s.length <= 5 * 104\n",
        "s consists of English letters, digits, symbols and spaces.\n",
        "\n",
        "1 .Initialize Variables:\n",
        "\n",
        "a) **last_seen**: A dictionary to store the last index at which each character was seen.\n",
        "\n",
        "b) **start_window**: The starting index of the current window.\n",
        "\n",
        "c) **max_length**: The maximum length of any substring found without repeating characters.\n",
        "\n",
        "2.Iterate Through the String:\n",
        "For each character and its index in the string:\n",
        "\n",
        "  a) If the character has been seen before and its last seen index is within the current window (start_window to current_index), update the start_window to be one position right of the last seen index of the character. This ensures that the window does not contain any repeating characters.\n",
        "\n",
        "  b) Update the last_seen dictionary with the current index of the character.\n",
        "\n",
        "  c) Calculate the length of the current window and update max_length if the current window is longer than the previous maximum.\n",
        "\n",
        "3.Return the Result:\n",
        "\n",
        "  a) The value of max_length will be the length of the longest substring without repeating characters."
      ],
      "metadata": {
        "id": "aCdnBPecJ19b"
      }
    },
    {
      "cell_type": "code",
      "source": [
        "def length_of_longest_substring(s: str) -> int:\n",
        "    # Dictionary to store the last seen index of each character\n",
        "    last_seen = {}\n",
        "    # Initialize the start of the current window and the maximum length\n",
        "    start_window = 0\n",
        "    max_length = 0\n",
        "\n",
        "    # Iterate through each character in the string with its index\n",
        "    for current_index, char in enumerate(s):\n",
        "        # If the character is already in the dictionary and\n",
        "        # its last seen index is within the current window\n",
        "        if char in last_seen and last_seen[char] >= start_window:\n",
        "            # Move the start of the window to the right of the\n",
        "            # last seen index of the character\n",
        "            start_window = last_seen[char] + 1\n",
        "        # Update the last seen index of the character\n",
        "        last_seen[char] = current_index\n",
        "        # Calculate the length of the current window and update\n",
        "        # max_length if needed\n",
        "        current_length = current_index - start_window + 1\n",
        "        max_length = max(max_length, current_length)\n",
        "\n",
        "    return max_length\n",
        "\n",
        "# Test cases\n",
        "print(length_of_longest_substring(\"abcabcbb\"))  # Output: 3\n",
        "print(length_of_longest_substring(\"bbbbb\"))     # Output: 1\n",
        "print(length_of_longest_substring(\"pwwkew\"))    # Output: 3"
      ],
      "metadata": {
        "id": "rXhsMM3QJ00A"
      },
      "execution_count": null,
      "outputs": []
    },
    {
      "cell_type": "markdown",
      "source": [
        "# 11. Median of Two Sorted Arrays\n",
        "Given two sorted arrays nums1 and nums2 of size m and n respectively, return the median of the two sorted arrays.\n",
        "\n",
        "The overall run time complexity should be O(log (m+n)).\n",
        "\n",
        "Example 1:\n",
        "Input: nums1 = [ 1,3 ], nums2 = [2]\n",
        "Output: 2.00000\n",
        "Explanation: merged array = [ 1,2,3 ] and median is 2.\n",
        "\n",
        "Example 2:\n",
        "Input: nums1 = [ 1,2 ], nums2 = [ 3,4 ]\n",
        "Output: 2.50000\n",
        "Explanation: merged array = [ 1,2,3,4 ] and median is ( 2 + 3 ) / 2 = 2.5."
      ],
      "metadata": {
        "id": "7-H043hAPoTo"
      }
    },
    {
      "cell_type": "code",
      "source": [
        "#  Time-Complexity O((m+n)log(m+n))\n",
        "def findMedianSortedArrays(nums1, nums2):\n",
        "    merged_array = []\n",
        "\n",
        "    # O(m)\n",
        "    merged_array.extend(nums1)\n",
        "    # O(n)\n",
        "    merged_array.extend(nums2)\n",
        "    # O((m+n)log(m+n))\n",
        "    merged_array.sort()\n",
        "\n",
        "    # Odd number\n",
        "    if len(merged_array) % 2 == 1:\n",
        "        mid = merged_array[len(merged_array) // 2]\n",
        "        return mid\n",
        "    # Even number\n",
        "    else:\n",
        "        mid1 = merged_array[len(merged_array) // 2] - 1\n",
        "        mid2 = merged_array[len(merged_array) // 2]\n",
        "        return (mid1 + mid2) / 2\n",
        "\n",
        "\n",
        "nums1 = [1, 3]\n",
        "nums2 = [2]\n",
        "print(findMedianSortedArrays(nums1, nums2))  # Output: 2.0\n",
        "\n",
        "nums1 = [1, 2]\n",
        "nums2 = [3, 4]\n",
        "print(findMedianSortedArrays(nums1, nums2))  # Output: 2.5\n",
        "# -----------------------------------------------------------------------\n",
        "#  Time-Complexity O(log(m+n))\n",
        "    # Ensure nums1 is the smaller array to minimize binary search range\n",
        "    if len(nums1) > len(nums2):\n",
        "        nums1, nums2 = nums2, nums1\n",
        "\n",
        "    # Lengths of the input arrays\n",
        "    m, n = len(nums1), len(nums2)\n",
        "    # Binary search range for the smaller array\n",
        "    left, right = 0, m\n",
        "    # Half of the combined array length (used for partitioning)\n",
        "    half_len = (m + n + 1) // 2\n",
        "\n",
        "    while left <= right:\n",
        "        # Partition nums1\n",
        "        partition_nums1 = (left + right) // 2\n",
        "        # Partition nums2 based on nums1's partition\n",
        "        partition_nums2 = half_len - partition_nums1\n",
        "\n",
        "        # Edge cases handling\n",
        "        max_left_nums1 = float('-inf') if partition_nums1 == 0 else nums1[partition_nums1 - 1]\n",
        "        min_right_nums1 = float('inf') if partition_nums1 == m else nums1[partition_nums1]\n",
        "\n",
        "        max_left_nums2 = float('-inf') if partition_nums2 == 0 else nums2[partition_nums2 - 1]\n",
        "        min_right_nums2 = float('inf') if partition_nums2 == n else nums2[partition_nums2]\n",
        "\n",
        "        # Correct partition found\n",
        "        if max_left_nums1 <= min_right_nums2 and max_left_nums2 <= min_right_nums1:\n",
        "            # If the combined array length is odd, return the max of left halves\n",
        "            if (m + n) % 2 == 1:\n",
        "                return max(max_left_nums1, max_left_nums2)\n",
        "            # If even, return the average of the max of left halves and min of right halves\n",
        "            return (max(max_left_nums1, max_left_nums2) + min(min_right_nums1, min_right_nums2)) / 2.0\n",
        "\n",
        "        # Adjust search range\n",
        "        elif max_left_nums1 > min_right_nums2:\n",
        "            right = partition_nums1 - 1\n",
        "        else:\n",
        "            left = partition_nums1 + 1"
      ],
      "metadata": {
        "id": "Vi3z4zm1SJqC"
      },
      "execution_count": null,
      "outputs": []
    }
  ]
}